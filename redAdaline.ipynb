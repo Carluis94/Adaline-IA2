{
 "cells": [
  {
   "cell_type": "markdown",
   "metadata": {},
   "source": [
    "# RED ADALINE"
   ]
  },
  {
   "cell_type": "markdown",
   "metadata": {},
   "source": [
    "## INTRODUCCION"
   ]
  },
  {
   "cell_type": "markdown",
   "metadata": {},
   "source": [
    "La Red Adaline tiene una diferencia significativa con relación al Perceptrón ya que esta emplea  una regla de aprendizaje más fuerte que la del perceptrón que es la llamada regla LMS (Least Mean Square) mínimo cuadrado medio.\n",
    "El perceptrón se basa en diferenciar de una clase de otra, separa por decirlo así manzana de peras, personas altas de bajas por decir un ejemplo, en cambio una red Adaline tiene una salida lineal y toma valores continuos que pueden ir de valores negativos hasta positivos."
   ]
  },
  {
   "cell_type": "markdown",
   "metadata": {},
   "source": [
    "![N|Solid](http://rasbt.github.io/mlxtend/user_guide/classifier/Adaline_files/adaline_schematic.png)"
   ]
  },
  {
   "cell_type": "markdown",
   "metadata": {},
   "source": [
    "## CARACTERISTICAS"
   ]
  },
  {
   "cell_type": "markdown",
   "metadata": {},
   "source": [
    "Las redes ADALINE son redes muy similares al perceptrón con la diferencia de que su función de activación es lineal en lugar de ser un limitador fuerte como es el caso del Perceptrón, estas presentan la misma limitación del Perceptrón respecto al tipo de problemas que pueden resolver,  ya que ambas redes solo pueden resolver problemas linealmente separables.\n",
    "Son redes de aprendizaje supervisado que  usan la regla de Widrow–Hoff para dicho aprendizaje o también denominada regla Delta. El algoritmo que estas usan es el LMS (Least Mean Square) siendo este  más eficiente que la regla de aprendizaje del Perceptrón puesto que minimiza el error medio cuadrático.\n",
    "Adaline está limitada a una única neurona de salida, un  vector x como su entrada y un número real y como su salida."
   ]
  },
  {
   "cell_type": "markdown",
   "metadata": {},
   "source": [
    "## DIFERENCIAS ENTRE ADALINE Y PERCEPTRON"
   ]
  },
  {
   "cell_type": "markdown",
   "metadata": {},
   "source": [
    "| DIFERENCIAS | ADALINE | PERCEPTRON |\n",
    "| --------- | --------- | --------- |\n",
    "| FUNCION DE TRANSFERENCIA | LINEAL | ESCALON |\n",
    "| RESOLUCION DE PROBLEMAS | LINEALMENTE SEPARABLES | LINEALMENTE SEPARABLES |\n",
    "| COMPORTAMIENTO RESPECTO AL RUIDO | MINIMIZA EL RUIDO | SENSIBLE AL RUIDO |\n",
    "| ALGORITMO DE APRENDIZAJE | LMS | REGLA DE APRENDIZAJE DEL PERCEPTRON |"
   ]
  },
  {
   "cell_type": "markdown",
   "metadata": {},
   "source": [
    "![N|Solid](http://1.bp.blogspot.com/_9cXdFizPo1Y/TOrSXf_7ypI/AAAAAAAAAEY/Iql431fUAeg/s1600/adaline_percentron.png)"
   ]
  },
  {
   "cell_type": "markdown",
   "metadata": {},
   "source": [
    "## ALGORITMO DE APRENDIZAJE"
   ]
  },
  {
   "cell_type": "markdown",
   "metadata": {},
   "source": [
    "1. Inicializar los pesos en forma aleatoria\n",
    "2. Introducir un patrón de entrada\n",
    "3. Calcular la  salida (y), compararla con la deseada (d) y obtener la diferencia (dp - yp)\n",
    "4. Multiplicar el resultado del paso anterior por la entrada correspondiente a cada uno de los pesos  y ponderarla por la tasa de aprendizaje.\n",
    "5. Actualizar los pesos, sumando al valor antiguo la cantidad obtenida en el paso anterior\n",
    "6. Si no se ha cumplido el criterio de parada, regresar al paso 2, si se ha acabado todos los  patrones repetir el algoritm"
   ]
  },
  {
   "cell_type": "markdown",
   "metadata": {},
   "source": [
    "## EJEMPLO"
   ]
  },
  {
   "cell_type": "code",
   "execution_count": 35,
   "metadata": {},
   "outputs": [],
   "source": [
    "import numpy as np\n",
    "from numpy.random import seed\n",
    "import pandas as pd\n",
    "import matplotlib.pyplot as plt\n",
    "from matplotlib.colors import ListedColormap"
   ]
  },
  {
   "cell_type": "code",
   "execution_count": 36,
   "metadata": {},
   "outputs": [],
   "source": [
    "df = pd.read_csv('/home/carlos/Documentos/muestra.csv', header=None)"
   ]
  },
  {
   "cell_type": "code",
   "execution_count": 37,
   "metadata": {},
   "outputs": [
    {
     "data": {
      "text/html": [
       "<div>\n",
       "<style scoped>\n",
       "    .dataframe tbody tr th:only-of-type {\n",
       "        vertical-align: middle;\n",
       "    }\n",
       "\n",
       "    .dataframe tbody tr th {\n",
       "        vertical-align: top;\n",
       "    }\n",
       "\n",
       "    .dataframe thead th {\n",
       "        text-align: right;\n",
       "    }\n",
       "</style>\n",
       "<table border=\"1\" class=\"dataframe\">\n",
       "  <thead>\n",
       "    <tr style=\"text-align: right;\">\n",
       "      <th></th>\n",
       "      <th>0</th>\n",
       "      <th>1</th>\n",
       "      <th>2</th>\n",
       "      <th>3</th>\n",
       "      <th>4</th>\n",
       "    </tr>\n",
       "  </thead>\n",
       "  <tbody>\n",
       "    <tr>\n",
       "      <th>0</th>\n",
       "      <td>5.2</td>\n",
       "      <td>3.5</td>\n",
       "      <td>1.4</td>\n",
       "      <td>0.2</td>\n",
       "      <td>Iris-setosa</td>\n",
       "    </tr>\n",
       "    <tr>\n",
       "      <th>1</th>\n",
       "      <td>4.8</td>\n",
       "      <td>2.1</td>\n",
       "      <td>1.3</td>\n",
       "      <td>0.4</td>\n",
       "      <td>Iris-setosa</td>\n",
       "    </tr>\n",
       "    <tr>\n",
       "      <th>2</th>\n",
       "      <td>4.3</td>\n",
       "      <td>3.2</td>\n",
       "      <td>1.4</td>\n",
       "      <td>0.2</td>\n",
       "      <td>Iris-setosa</td>\n",
       "    </tr>\n",
       "    <tr>\n",
       "      <th>3</th>\n",
       "      <td>4.1</td>\n",
       "      <td>3.1</td>\n",
       "      <td>1.5</td>\n",
       "      <td>0.2</td>\n",
       "      <td>Iris-setosa</td>\n",
       "    </tr>\n",
       "    <tr>\n",
       "      <th>4</th>\n",
       "      <td>5.5</td>\n",
       "      <td>2.5</td>\n",
       "      <td>1.4</td>\n",
       "      <td>0.1</td>\n",
       "      <td>Iris-setosa</td>\n",
       "    </tr>\n",
       "  </tbody>\n",
       "</table>\n",
       "</div>"
      ],
      "text/plain": [
       "     0    1    2    3            4\n",
       "0  5.2  3.5  1.4  0.2  Iris-setosa\n",
       "1  4.8  2.1  1.3  0.4  Iris-setosa\n",
       "2  4.3  3.2  1.4  0.2  Iris-setosa\n",
       "3  4.1  3.1  1.5  0.2  Iris-setosa\n",
       "4  5.5  2.5  1.4  0.1  Iris-setosa"
      ]
     },
     "execution_count": 37,
     "metadata": {},
     "output_type": "execute_result"
    }
   ],
   "source": [
    "df.head()"
   ]
  },
  {
   "cell_type": "code",
   "execution_count": 38,
   "metadata": {},
   "outputs": [],
   "source": [
    "class AdalineGD(object):\n",
    "    \n",
    "    def __init__(self, eta=0.01, n_iter=50):\n",
    "        self.eta = eta\n",
    "        self.n_iter = n_iter\n",
    "    def fit(self, X, y):\n",
    "        self.w_ = np.zeros(1 + X.shape[1])\n",
    "        self.cost_ = []\n",
    "        for i in range(self.n_iter):\n",
    "            output = self.net_input(X)\n",
    "            errors = (y - output)\n",
    "            self.w_[1:] += self.eta * X.T.dot(errors)\n",
    "            self.w_[0] += self.eta * errors.sum()\n",
    "            cost = (errors**2).sum() / 2.0\n",
    "            self.cost_.append(cost)\n",
    "        return self\n",
    "    def net_input(self, X):\n",
    "       \"\"\"Calculate net input\"\"\"\n",
    "       return np.dot(X, self.w_[1:]) + self.w_[0]\n",
    "\n",
    "    def activation(self, X):\n",
    "       \"\"\"Compute linear activation\"\"\"\n",
    "       return self.net_input(X)\n",
    "    def predict(self, X):\n",
    "       \"\"\"Return class label after unit step\"\"\"\n",
    "       return np.where(self.activation(X) >= 0.0, 1, -1)"
   ]
  },
  {
   "cell_type": "code",
   "execution_count": 39,
   "metadata": {},
   "outputs": [
    {
     "name": "stderr",
     "output_type": "stream",
     "text": [
      "/home/carlos/.conda/envs/cardosoSimulacion/lib/python3.7/site-packages/ipykernel_launcher.py:14: RuntimeWarning: overflow encountered in square\n",
      "  \n"
     ]
    },
    {
     "data": {
      "image/png": "[encoded data removed]",
      "text/plain": [
       "<Figure size 576x288 with 2 Axes>"
      ]
     },
     "metadata": {
      "needs_background": "light"
     },
     "output_type": "display_data"
    }
   ],
   "source": [
    "fig,ax = plt.subplots(nrows=1,ncols=2,figsize=(8,4))\n",
    "ada1 = AdalineGD(n_iter=100).fit(X,y)\n",
    "ax[0].plot(range(1,len(ada1.cost_) +1),np.log10(ada1.cost_),marker='o')\n",
    "\n",
    "ada2 = AdalineGD(n_iter=100,eta=0.0001).fit(X,y)\n",
    "ax[1].plot(range(1,len(ada2.cost_) +1), (ada2.cost_),marker='x')\n",
    "plt.show()"
   ]
  },
  {
   "cell_type": "code",
   "execution_count": 40,
   "metadata": {},
   "outputs": [],
   "source": [
    "X_std = np.copy(X)\n",
    "X_std[:,0] = (X_std[:,0] - X_std.mean() )/X_std[:,0].std()\n",
    "X_std[:,1] = (X_std[:,1] - X_std.mean() )/X_std[:,1].std()"
   ]
  },
  {
   "cell_type": "code",
   "execution_count": 41,
   "metadata": {},
   "outputs": [
    {
     "name": "stderr",
     "output_type": "stream",
     "text": [
      "'c' argument looks like a single numeric RGB or RGBA sequence, which should be avoided as value-mapping will have precedence in case its length matches with 'x' & 'y'.  Please use a 2-D array with a single row if you really want to specify the same RGB or RGBA value for all points.\n",
      "'c' argument looks like a single numeric RGB or RGBA sequence, which should be avoided as value-mapping will have precedence in case its length matches with 'x' & 'y'.  Please use a 2-D array with a single row if you really want to specify the same RGB or RGBA value for all points.\n"
     ]
    },
    {
     "data": {
      "image/png": "[encoded data removed]",
      "text/plain": [
       "<Figure size 432x288 with 1 Axes>"
      ]
     },
     "metadata": {
      "needs_background": "light"
     },
     "output_type": "display_data"
    },
    {
     "data": {
      "image/png": "[encoded data removed]",
      "text/plain": [
       "<Figure size 432x288 with 1 Axes>"
      ]
     },
     "metadata": {
      "needs_background": "light"
     },
     "output_type": "display_data"
    }
   ],
   "source": [
    "ada = AdalineGD(n_iter = 55,eta=0.001).fit(X_std,y)\n",
    "plot_decision_regions(X_std,y,classifier=ada)\n",
    "plt.show()\n",
    "plt.plot(range(1, len(ada.cost_) + 1), ada.cost_, marker='o')\n",
    "plt.show()"
   ]
  },
  {
   "cell_type": "markdown",
   "metadata": {},
   "source": [
    "## BIBLIOGRAFIA"
   ]
  },
  {
   "cell_type": "markdown",
   "metadata": {},
   "source": [
    "1. Chavez, R. (21 de Noviembre de 2010). Modelos de Redes Neuronales. Obtenido de Red Adaline: http://ronaldchavezblog.blogspot.com/2010/11/red-adeline.html\n",
    "\n",
    "2. Lopez, D. (30 de Junio de 2015). Inteligencia Artificial. Obtenido de Red Adaline: http://dianainteligenciaartificial.blogspot.com/2015/07/red-adaline.html\n",
    "\n",
    "3. Medina, E; Cubides, H; Salazar, J y Sigüencia, J. 2010. Redes Adaline – Filtros Adaptativos. Disponible en: http://es.scribd.com/doc/52002261/Adeline-1"
   ]
  }
 ],
 "metadata": {
  "kernelspec": {
   "display_name": "Python 3.7 simpy",
   "language": "python",
   "name": "cardososimulacion"
  },
  "language_info": {
   "codemirror_mode": {
    "name": "ipython",
    "version": 3
   },
   "file_extension": ".py",
   "mimetype": "text/x-python",
   "name": "python",
   "nbconvert_exporter": "python",
   "pygments_lexer": "ipython3",
   "version": "3.7.3"
  }
 },
 "nbformat": 4,
 "nbformat_minor": 2
}
